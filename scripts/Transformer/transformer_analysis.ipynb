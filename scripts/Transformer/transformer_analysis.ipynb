{
 "cells": [
  {
   "cell_type": "code",
   "execution_count": null,
   "metadata": {},
   "outputs": [],
   "source": [
    "import scripts.data_preparation as dp\n",
    "import transformer_model as tm\n",
    "\n",
    "import numpy as np\n",
    "import pandas as pd\n",
    "import tensorflow as tf\n",
    "import random as rn\n",
    "import matplotlib.pyplot as plt"
   ]
  },
  {
   "cell_type": "code",
   "execution_count": null,
   "metadata": {},
   "outputs": [],
   "source": [
    "# Set random seed for reproducibility\n",
    "np.random.seed(42)\n",
    "rn.seed(42)\n",
    "tf.random.set_seed(42)"
   ]
  },
  {
   "cell_type": "code",
   "execution_count": null,
   "metadata": {},
   "outputs": [],
   "source": [
    "sentiment_data = dp.data_loader()\n",
    "sentiment_data = dp.data_preprocessor(sentiment_data)"
   ]
  },
  {
   "cell_type": "code",
   "execution_count": null,
   "metadata": {},
   "outputs": [],
   "source": [
    "# Test the different data preprocessing methods\n",
    "columns = ['tokenized_text', 'no_punctuation_text', 'no_stopwords_text', 'stemmed_text', 'lemmatized_text']\n",
    "results = []\n",
    "for column in columns:\n",
    "    model_result = tm.train_and_evaluate(sentiment_data, column)\n",
    "    results.append(model_result)"
   ]
  },
  {
   "cell_type": "code",
   "execution_count": null,
   "metadata": {},
   "outputs": [],
   "source": [
    "results_df = pd.DataFrame(results, columns=['RMSE', 'R^2'], index=columns)\n",
    "\n",
    "# Create a list of colors\n",
    "colors = ['cornflowerblue', 'sandybrown', 'mediumseagreen', 'indianred', 'mediumpurple']\n",
    "\n",
    "fig, axes = plt.subplots(nrows=1, ncols=2, figsize=(15, 6))\n",
    "\n",
    "# Plot RMSE\n",
    "results_df['RMSE'].plot(kind='bar', ax=axes[0], color=colors)\n",
    "axes[0].set_title('RMSE for Different Preprocessing Methods')\n",
    "axes[0].set_ylabel('RMSE')\n",
    "\n",
    "# Plot R^2\n",
    "results_df['R^2'].plot(kind='bar', ax=axes[1], color=colors)\n",
    "axes[1].set_title('R^2 for Different Preprocessing Methods')\n",
    "axes[1].set_ylabel('R^2')\n",
    "\n",
    "plt.tight_layout()\n",
    "plt.show()"
   ]
  }
 ],
 "metadata": {
  "kernelspec": {
   "display_name": "sentiment_env",
   "language": "python",
   "name": "python3"
  },
  "language_info": {
   "name": "python",
   "version": "3.9.18"
  }
 },
 "nbformat": 4,
 "nbformat_minor": 2
}
