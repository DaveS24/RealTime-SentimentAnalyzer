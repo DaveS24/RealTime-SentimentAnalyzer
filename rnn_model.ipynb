{
 "cells": [
  {
   "cell_type": "code",
   "execution_count": 28,
   "metadata": {},
   "outputs": [],
   "source": [
    "import numpy as np\n",
    "\n",
    "from keras.models import Sequential\n",
    "from keras.layers import Embedding, LSTM, Dense\n",
    "from sklearn.metrics import mean_squared_error, r2_score\n",
    "from math import sqrt"
   ]
  },
  {
   "cell_type": "code",
   "execution_count": 25,
   "metadata": {},
   "outputs": [],
   "source": [
    "train_data = np.load('./data/train_data.npz')\n",
    "train_sequences = train_data['sequences']\n",
    "train_labels = train_data['labels']\n",
    "\n",
    "test_data = np.load('./data/test_data.npz')\n",
    "test_sequences = test_data['sequences']\n",
    "test_labels = test_data['labels']\n",
    "\n",
    "dev_data = np.load('./data/dev_data.npz')\n",
    "dev_sequences = dev_data['sequences']\n",
    "dev_labels = dev_data['labels']"
   ]
  },
  {
   "cell_type": "code",
   "execution_count": 26,
   "metadata": {},
   "outputs": [
    {
     "name": "stdout",
     "output_type": "stream",
     "text": [
      "Model: \"sequential_5\"\n",
      "_________________________________________________________________\n",
      " Layer (type)                Output Shape              Param #   \n",
      "=================================================================\n",
      " embedding_5 (Embedding)     (None, 100, 128)          1280000   \n",
      "                                                                 \n",
      " lstm_5 (LSTM)               (None, 128)               131584    \n",
      "                                                                 \n",
      " dense_5 (Dense)             (None, 1)                 129       \n",
      "                                                                 \n",
      "=================================================================\n",
      "Total params: 1,411,713\n",
      "Trainable params: 1,411,713\n",
      "Non-trainable params: 0\n",
      "_________________________________________________________________\n"
     ]
    }
   ],
   "source": [
    "max_features = 10000\n",
    "max_sequence_length = 100\n",
    "\n",
    "model = Sequential()\n",
    "model.add(Embedding(max_features, 128, input_length=max_sequence_length))\n",
    "model.add(LSTM(128, dropout=0.2, recurrent_dropout=0.2))\n",
    "model.add(Dense(1))\n",
    "\n",
    "model.compile(loss='mean_squared_error',\n",
    "              optimizer='adam')\n",
    "\n",
    "model.summary()"
   ]
  },
  {
   "cell_type": "code",
   "execution_count": 27,
   "metadata": {},
   "outputs": [
    {
     "name": "stdout",
     "output_type": "stream",
     "text": [
      "Epoch 1/10\n",
      "254/254 [==============================] - 61s 227ms/step - loss: 0.0567 - accuracy: 0.0032 - val_loss: 0.0402 - val_accuracy: 0.0077\n",
      "Epoch 2/10\n",
      "254/254 [==============================] - 62s 244ms/step - loss: 0.0286 - accuracy: 0.0041 - val_loss: 0.0438 - val_accuracy: 0.0077\n",
      "Epoch 3/10\n",
      "254/254 [==============================] - 62s 246ms/step - loss: 0.0176 - accuracy: 0.0042 - val_loss: 0.0420 - val_accuracy: 0.0067\n",
      "Epoch 4/10\n",
      "254/254 [==============================] - 66s 262ms/step - loss: 0.0126 - accuracy: 0.0042 - val_loss: 0.0468 - val_accuracy: 0.0067\n",
      "Epoch 5/10\n",
      "254/254 [==============================] - 71s 280ms/step - loss: 0.0095 - accuracy: 0.0042 - val_loss: 0.0463 - val_accuracy: 0.0067\n",
      "Epoch 6/10\n",
      "254/254 [==============================] - 72s 285ms/step - loss: 0.0076 - accuracy: 0.0042 - val_loss: 0.0475 - val_accuracy: 0.0067\n",
      "Epoch 7/10\n",
      "254/254 [==============================] - 74s 290ms/step - loss: 0.0063 - accuracy: 0.0042 - val_loss: 0.0471 - val_accuracy: 0.0077\n",
      "Epoch 8/10\n",
      "254/254 [==============================] - 72s 285ms/step - loss: 0.0054 - accuracy: 0.0042 - val_loss: 0.0494 - val_accuracy: 0.0067\n",
      "Epoch 9/10\n",
      "254/254 [==============================] - 72s 285ms/step - loss: 0.0048 - accuracy: 0.0042 - val_loss: 0.0469 - val_accuracy: 0.0067\n",
      "Epoch 10/10\n",
      "254/254 [==============================] - 73s 286ms/step - loss: 0.0043 - accuracy: 0.0042 - val_loss: 0.0497 - val_accuracy: 0.0067\n",
      "67/67 [==============================] - 3s 44ms/step - loss: 0.0486 - accuracy: 0.0024\n",
      "Test loss: 0.04863469675183296\n",
      "Test accuracy: 0.002352941082790494\n"
     ]
    }
   ],
   "source": [
    "history = model.fit(train_sequences, train_labels,\n",
    "                    epochs=10,\n",
    "                    batch_size=32,\n",
    "                    validation_data=(dev_sequences, dev_labels))"
   ]
  },
  {
   "cell_type": "code",
   "execution_count": 29,
   "metadata": {},
   "outputs": [
    {
     "name": "stdout",
     "output_type": "stream",
     "text": [
      "67/67 [==============================] - 2s 30ms/step\n",
      "Test RMSE: 0.22053277111051087\n",
      "Test R^2: 0.2624137334001674\n"
     ]
    }
   ],
   "source": [
    "test_predictions = model.predict(test_sequences)\n",
    "\n",
    "rmse = sqrt(mean_squared_error(test_labels, test_predictions))\n",
    "r2 = r2_score(test_labels, test_predictions)\n",
    "\n",
    "print(f'Test RMSE: {rmse}')\n",
    "print(f'Test R^2: {r2}')"
   ]
  }
 ],
 "metadata": {
  "kernelspec": {
   "display_name": "sentiment_env",
   "language": "python",
   "name": "python3"
  },
  "language_info": {
   "codemirror_mode": {
    "name": "ipython",
    "version": 3
   },
   "file_extension": ".py",
   "mimetype": "text/x-python",
   "name": "python",
   "nbconvert_exporter": "python",
   "pygments_lexer": "ipython3",
   "version": "3.9.18"
  }
 },
 "nbformat": 4,
 "nbformat_minor": 2
}
